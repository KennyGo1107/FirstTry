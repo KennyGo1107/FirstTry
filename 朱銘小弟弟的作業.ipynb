{
 "cells": [
  {
   "cell_type": "markdown",
   "metadata": {},
   "source": [
    "# HW1"
   ]
  },
  {
   "cell_type": "code",
   "execution_count": 1,
   "metadata": {
    "collapsed": false
   },
   "outputs": [
    {
     "name": "stdout",
     "output_type": "stream",
     "text": [
      "3365\n"
     ]
    }
   ],
   "source": [
    "import re\n",
    "import requests as req\n",
    "from bs4 import BeautifulSoup as BS\n",
    "\n",
    "res = req.get('https://www.ptt.cc/bbs/Boy-Girl/index.html')\n",
    "data = BS(res.text,'html.parser')\n",
    "\n",
    "print(int(re.sub(r'[^0-9]','',str(data.find('div',{'class':'btn-group btn-group-paging'}).select('a')[1])))+1)"
   ]
  },
  {
   "cell_type": "markdown",
   "metadata": {},
   "source": [
    "# HW2"
   ]
  },
  {
   "cell_type": "code",
   "execution_count": 1,
   "metadata": {
    "collapsed": false
   },
   "outputs": [
    {
     "name": "stdout",
     "output_type": "stream",
     "text": [
      "['[公告] 即日起停止匿名信箱服務。']\n",
      "/bbs/Boy-Girl/M.1399018430.A.4CF.html\n"
     ]
    }
   ],
   "source": [
    "import re\n",
    "import requests as req\n",
    "from bs4 import BeautifulSoup as BS\n",
    "\n",
    "res = req.get('https://www.ptt.cc/bbs/Boy-Girl/index.html')\n",
    "data = BS(res.text,'html.parser')\n",
    "\n",
    "for all in data.find('span',{'class':'hl f1'}):\n",
    "    print(all.parent.parent.parent.a.contents) # Title\n",
    "    print(all.parent.parent.parent.a['href']) # URN\n"
   ]
  },
  {
   "cell_type": "markdown",
   "metadata": {},
   "source": [
    "# HW3"
   ]
  },
  {
   "cell_type": "code",
   "execution_count": 13,
   "metadata": {
    "collapsed": false
   },
   "outputs": [],
   "source": [
    "import time\n",
    "from selenium import webdriver\n",
    "driver = webdriver.Chrome() # Chrome, PhantomJS, etc. \n",
    "driver.get('https://www.ptt.cc/bbs/Boy-Girl/index.html')\n",
    "\n",
    "target = \" 上頁\"\n",
    "for i in range(0,3):\n",
    "    time.sleep(1.5)\n",
    "    lastP = driver.find_element_by_partial_link_text(target).get_attribute(\"href\")\n",
    "    driver.get(lastP)\n",
    "    driver.save_screenshot(str(i) + '.png')"
   ]
  }
 ],
 "metadata": {
  "kernelspec": {
   "display_name": "Python 3",
   "language": "python",
   "name": "python3"
  },
  "language_info": {
   "codemirror_mode": {
    "name": "ipython",
    "version": 3
   },
   "file_extension": ".py",
   "mimetype": "text/x-python",
   "name": "python",
   "nbconvert_exporter": "python",
   "pygments_lexer": "ipython3",
   "version": "3.5.2"
  }
 },
 "nbformat": 4,
 "nbformat_minor": 2
}
