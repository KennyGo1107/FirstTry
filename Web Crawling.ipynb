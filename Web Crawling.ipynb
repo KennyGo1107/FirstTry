{
 "cells": [
  {
   "cell_type": "markdown",
   "metadata": {},
   "source": [
    "# Basic Setup"
   ]
  },
  {
   "cell_type": "code",
   "execution_count": 1,
   "metadata": {},
   "outputs": [
    {
     "name": "stdout",
     "output_type": "stream",
     "text": [
      "['[公告] 即日起停止匿名信箱服務。']\n",
      "/bbs/Boy-Girl/M.1399018430.A.4CF.html\n"
     ]
    }
   ],
   "source": [
    "import requests as req\n",
    "from bs4 import BeautifulSoup as BS\n",
    "\n",
    "headers = {}\n",
    "payload = {}\n",
    "\n",
    "res = req.get('https://www.ptt.cc/bbs/Boy-Girl/index.html')\n",
    "res = req.post('URL',data=payload,headers=headers)\n",
    "html = BS(res.text,'html.parser')\n",
    "\n",
    "for all in html.find('span',{'class':'hl f1'}):\n",
    "    print(all.parent.parent.parent.a.contents) # Title\n",
    "    print(all.parent.parent.parent.a['href']) # URN\n"
   ]
  },
  {
   "cell_type": "markdown",
   "metadata": {},
   "source": [
    "# Selenium"
   ]
  },
  {
   "cell_type": "code",
   "execution_count": 13,
   "metadata": {},
   "outputs": [],
   "source": [
    "import time\n",
    "from selenium import webdriver\n",
    "driver = webdriver.Chrome() # Chrome, PhantomJS, etc. \n",
    "driver.get('https://www.ptt.cc/bbs/Boy-Girl/index.html')\n",
    "\n",
    "target = \" 上頁\"\n",
    "for i in range(0,3):\n",
    "    time.sleep(1.5)\n",
    "    lastP = driver.find_element_by_partial_link_text(target).get_attribute(\"href\")\n",
    "    driver.get(lastP)\n",
    "    driver.save_screenshot(str(i) + '.png')"
   ]
  },
  {
   "cell_type": "markdown",
   "metadata": {},
   "source": [
    "# How to Solve SSL1 Error : crawl NTU courses"
   ]
  },
  {
   "cell_type": "code",
   "execution_count": null,
   "metadata": {},
   "outputs": [],
   "source": [
    "import requests, time\n",
    "from bs4 import BeautifulSoup as BS\n",
    "from requests.adapters import HTTPAdapter\n",
    "from requests.packages.urllib3.poolmanager import PoolManager\n",
    "import ssl\n",
    "\n",
    "class MyAdapter(HTTPAdapter):\n",
    "    def init_poolmanager(self, connections, maxsize, block=False):\n",
    "        self.poolmanager = PoolManager(num_pools=connections,\n",
    "                                       maxsize=maxsize,\n",
    "                                       block=block,\n",
    "                                       ssl_version=ssl.PROTOCOL_TLSv1)\n",
    "        \n",
    "rownum = 0\n",
    "with requests.Session() as s:\n",
    "    res = s.mount('https://',MyAdapter())\n",
    "    res = s.get('https://nol.ntu.edu.tw/nol/guest/index.php')\n",
    "    for i in range(0,12500,500):\n",
    "        time.sleep(1)\n",
    "        print(i, end='\\t')\n",
    "        payload = {'alltime':'yes',\n",
    "                   'allproced':'yes',\n",
    "                   'cstype':'1',\n",
    "                   'current_sem':'106-1',\n",
    "                   'op':'stu',\n",
    "                   'startrec':str(i),\n",
    "                   'allsel':'yes',\n",
    "                   'page_cnt':'500'}\n",
    "        res = s.post('https://nol.ntu.edu.tw/nol/coursesearch/search_result.php',data=payload)\n",
    "        res.encoding = 'cp950'\n",
    "        soup = BS(res.text,'html.parser')\n",
    "\n",
    "        with open('NTUCourses.txt','a+',encoding='utf8') as f:\n",
    "            for tr in soup.select('table')[6].select('tr'):\n",
    "                rownum+=1\n",
    "                for td in tr.select('td'):\n",
    "                    f.write(td.text.replace(\"\\t\",\"\").replace(\"\\n\",\"\").replace(\"\\r\",\"\").strip() + '\\t')\n",
    "                f.write('\\n')\n",
    "        print('Done')\n",
    "print(rownum)"
   ]
  },
  {
   "cell_type": "markdown",
   "metadata": {},
   "source": [
    "# Joint Credit Information Center"
   ]
  },
  {
   "cell_type": "code",
   "execution_count": null,
   "metadata": {},
   "outputs": [],
   "source": [
    "import requests, sys, re, time\n",
    "import pandas as pd\n",
    "from bs4 import BeautifulSoup as BS\n",
    "pause = 0.5\n",
    "\n",
    "params = {'#ContentPlaceHolder1_F_BUILDING_CITY':'台北市',\n",
    "          '#ContentPlaceHolder1_F_BUILDING_CLASS':'電梯大廈',\n",
    "          '#ContentPlaceHolder1_F_PERSON_EDUCATION':'大學'}\n",
    "county = '中山區'\n",
    "\n",
    "payload = {'ctl00$ContentPlaceHolder1$ScriptManager1':'ctl00$ContentPlaceHolder1$ScriptManager1|ctl00$ContentPlaceHolder1$F_BUILDING_CITY',\n",
    "           '__EVENTTARGET':'ctl00$ContentPlaceHolder1$F_BUILDING_CITY',\n",
    "           'ctl00$tb_keyword':'請輸入關鍵字',\n",
    "           'ctl00$ContentPlaceHolder1$F_DATA_TYPE':'1',\n",
    "           'ContentPlaceHolder1_Tabs_ClientState':'{\"ActiveTabIndex\":0,\"TabState\":[true,true,true]}',\n",
    "           'ctl00$ContentPlaceHolder1$F_DATA_PERIOD_S':'2008Q2', #資料期間\n",
    "           'ctl00$ContentPlaceHolder1$F_DATA_PERIOD_E':'2017Q1', #資料期間\n",
    "           'ctl00$ContentPlaceHolder1$F_STATISTICS':'1',\n",
    "           'ctl00$ContentPlaceHolder1$F_BUILDING_COUNTY':'0000000', # 行政區別\n",
    "           'ctl00$ContentPlaceHolder1$F_BUILDING_ROAD':'請先選取縣市別及行政區別', #路/街 \n",
    "           'ctl00$ContentPlaceHolder1$F_BUILDING_SECTION':'0', #段\n",
    "           'ctl00$ContentPlaceHolder1$F_BUILDING_CLASS':'02', #建物類別\n",
    "           'ctl00$ContentPlaceHolder1$F_BUILDING_AGE_S':'00', #屋齡區間\n",
    "           'ctl00$ContentPlaceHolder1$F_BUILDING_AGE_E':'36', #屋齡區間\n",
    "           'ctl00$ContentPlaceHolder1$F_PERSON_GENDER':'1', #性別\n",
    "           'ctl00$ContentPlaceHolder1$F_PERSON_AGE_S':'20', #年齡區間\n",
    "           'ctl00$ContentPlaceHolder1$F_PERSON_AGE_E':'80', #年齡區間\n",
    "           'ctl00$ContentPlaceHolder1$F_PERSON_INCOME_S':'000', #年收入區間\n",
    "           'ctl00$ContentPlaceHolder1$F_PERSON_INCOME_E':'400', #年收入區間\n",
    "           'ctl00$ContentPlaceHolder1$F_PERSON_EDUCATION':'4'} #教育程度\n",
    "\"\"\"\n",
    "headers = {'X-Requested-With':'XMLHttpRequest',\n",
    "           'Origin':'https://member.jcic.org.tw',\n",
    "           'Referer':'https://member.jcic.org.tw/main_member/MorgageQuery.aspx',\n",
    "           'User-Agent':'Mozilla/5.0 (Windows NT 10.0; Win64; x64) AppleWebKit/537.36 (KHTML, like Gecko) Chrome/58.0.3029.110 Safari/537.36'}                 \n",
    "\"\"\"\n",
    "\n",
    "with requests.session() as s:\n",
    "    time.sleep(pause)\n",
    "    r = s.get('https://member.jcic.org.tw/main_member/MorgageQuery.aspx')\n",
    "    html = BS(r.content, 'html.parser')\n",
    "    for ID, param in params.items():\n",
    "        options = []\n",
    "        for option in html.select(ID)[0].select('option'):\n",
    "            options.append(option.text)\n",
    "            if option.text == param:\n",
    "                print(option.text,'代碼 :',option['value'])\n",
    "                payload[html.select(ID)[0]['name']] = option['value']\n",
    "                break\n",
    "        else:\n",
    "            print('選項列表提示 :',options)\n",
    "            sys.exit(param + ' 可能不存在於選項列表中，也可能是標籤的id發生更動!')\n",
    "    payload['__VIEWSTATE'] = html.select('#__VIEWSTATE')[0]['value']\n",
    "    payload['__VIEWSTATEGENERATOR'] = html.select('#__VIEWSTATEGENERATOR')[0]['value']\n",
    "    \n",
    "    time.sleep(pause)\n",
    "    r_city = s.post('https://member.jcic.org.tw/main_member/MorgageQuery.aspx', data=payload) #取得行政區別資料\n",
    "    html = BS(r_city.content, 'html.parser')        \n",
    "    options = []\n",
    "    for option in html.select('#ContentPlaceHolder1_F_BUILDING_COUNTY')[0].select('option'):\n",
    "        options.append(option.text)\n",
    "        if option.text == county:\n",
    "            print(option.text,'代碼 :',option['value'])\n",
    "            payload['ctl00$ContentPlaceHolder1$F_BUILDING_COUNTY'] = option['value']\n",
    "            break\n",
    "    else:\n",
    "        print('選項列表提示 :',options)\n",
    "        sys.exit(county + ' 可能不存在於選項列表中，也可能是標籤的id發生更動!')\n",
    "    payload['ctl00$ContentPlaceHolder1$ScriptManager1'] = 'ctl00$ContentPlaceHolder1$ScriptManager1|ctl00$ContentPlaceHolder1$F_BUILDING_COUNTY'\n",
    "    payload['__EVENTTARGET'] = 'ctl00$ContentPlaceHolder1$F_BUILDING_COUNTY'\n",
    "    payload['__VIEWSTATE'] = html.select('#__VIEWSTATE')[0]['value']  \n",
    "    \n",
    "    time.sleep(pause)\n",
    "    r_county = s.post('https://member.jcic.org.tw/main_member/MorgageQuery.aspx', data=payload)\n",
    "    html = BS(r_county.content,'html.parser')\n",
    "    payload['__VIEWSTATE'] = html.select('#__VIEWSTATE')[0]['value']\n",
    "    payload['ctl00$ContentPlaceHolder1$ScriptManager1'] = 'ctl00$ContentPlaceHolder1$ScriptManager1|ctl00$ContentPlaceHolder1$bt_Query'\n",
    "    payload['ContentPlaceHolder1_Tabs_Panel_Chart_Tab_DATA_ClientState'] = '{\"ActiveTabIndex\":0,\"TabState\":[true,true,true,true,true,true,true,true]}'\n",
    "    payload['ContentPlaceHolder1_Tabs_TabPanel1_Tab_PIE_ClientState'] = '{\"ActiveTabIndex\":0,\"TabState\":[true,true,true,true,true,true,true]}'\n",
    "    payload['ctl00$ContentPlaceHolder1$bt_Query'] = '查詢'\n",
    "    del payload['__EVENTTARGET']\n",
    "    del payload['ctl00$ContentPlaceHolder1$F_BUILDING_ROAD']\n",
    "    \n",
    "    time.sleep(pause)\n",
    "    r_data = s.post('https://member.jcic.org.tw/main_member/MorgageQuery.aspx', data=payload)\n",
    "    html = BS(r_data.content,'html.parser')\n",
    "    for tr in html.select('#ContentPlaceHolder1_Tabs_Panel_Table_gvPaging')[0].select('tr'):\n",
    "        for td in tr.select('td'):\n",
    "            print(td.text.strip(),end='\\t')\n",
    "        print()"
   ]
  }
 ],
 "metadata": {
  "kernelspec": {
   "display_name": "Python 3",
   "language": "python",
   "name": "python3"
  },
  "language_info": {
   "codemirror_mode": {
    "name": "ipython",
    "version": 3
   },
   "file_extension": ".py",
   "mimetype": "text/x-python",
   "name": "python",
   "nbconvert_exporter": "python",
   "pygments_lexer": "ipython3",
   "version": "3.5.2"
  }
 },
 "nbformat": 4,
 "nbformat_minor": 2
}
